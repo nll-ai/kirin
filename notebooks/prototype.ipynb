{
 "cells": [
  {
   "cell_type": "code",
   "execution_count": null,
   "metadata": {},
   "outputs": [],
   "source": [
    "%load_ext autoreload\n",
    "%autoreload 2\n"
   ]
  },
  {
   "cell_type": "code",
   "execution_count": null,
   "metadata": {},
   "outputs": [],
   "source": [
    "from pyprojroot import here\n",
    "from pathlib import Path\n"
   ]
  },
  {
   "cell_type": "code",
   "execution_count": null,
   "metadata": {},
   "outputs": [],
   "source": [
    "from gitdata.dataset import Dataset\n",
    "\n",
    "ds = Dataset(root_dir=here() / \"data\" / \"dummy\", dataset_name=\"test_dataset\")\n",
    "ds.current_commit\n",
    "ds.checkout()"
   ]
  },
  {
   "cell_type": "code",
   "execution_count": null,
   "metadata": {},
   "outputs": [],
   "source": [
    "\n",
    "ds.commit(commit_message=\"test from empty commit\", add_files=[here() / \"README.md\", here() / \".pre-commit-config.yaml\"])\n",
    "print(ds.file_dict, ds.current_commit.version_hash)\n"
   ]
  },
  {
   "cell_type": "code",
   "execution_count": null,
   "metadata": {},
   "outputs": [],
   "source": [
    "\n",
    "ds.commit(commit_message=\"test removing a file\", remove_files=\"README.md\")\n",
    "print(\"-----\")\n",
    "print(ds.file_dict, ds.current_commit.version_hash)\n"
   ]
  },
  {
   "cell_type": "code",
   "execution_count": null,
   "metadata": {},
   "outputs": [],
   "source": [
    "\n",
    "ds.commit(commit_message=\"test adding a config file\", add_files=here() / \".flake8\")\n",
    "print(\"-----\")\n",
    "print(ds.file_dict, ds.current_commit.version_hash)\n"
   ]
  },
  {
   "cell_type": "code",
   "execution_count": null,
   "metadata": {},
   "outputs": [],
   "source": [
    "\n",
    "ds.checkout()\n",
    "print(\"-----\")\n",
    "print(ds.file_dict, ds.current_commit.version_hash)\n"
   ]
  },
  {
   "cell_type": "code",
   "execution_count": null,
   "metadata": {},
   "outputs": [],
   "source": []
  },
  {
   "cell_type": "code",
   "execution_count": null,
   "metadata": {},
   "outputs": [],
   "source": [
    "# Prototype finding latest commit hash\n",
    "# We do this by identifying the commit (based on commit.json) that is not a parent to any other commit.\n",
    "import json5 as json\n",
    "\n",
    "\n",
    "def latest_version_hash(self):\n",
    "    jsons = list(self.dataset_dir.glob(\"*/commit.json\"))\n",
    "    commit_to_parent = dict()\n",
    "    for json_file in jsons:\n",
    "        with open(json_file, \"r\") as f:\n",
    "            data = json.loads(f.read())\n",
    "            commit_to_parent[data[\"version_hash\"]] = data[\"parent_hash\"]\n",
    "\n",
    "    # Now, find the commit that is not a parent to any other commit.\n",
    "    for k, v in commit_to_parent.items():\n",
    "        if v not in commit_to_parent.values():\n",
    "            break\n",
    "    return k"
   ]
  },
  {
   "cell_type": "code",
   "execution_count": null,
   "metadata": {},
   "outputs": [],
   "source": [
    "ds.checkout()\n",
    "ds.file_dict, ds.current_commit.version_hash # need to assert that it is not empty"
   ]
  },
  {
   "cell_type": "code",
   "execution_count": null,
   "metadata": {},
   "outputs": [],
   "source": []
  },
  {
   "cell_type": "code",
   "execution_count": null,
   "metadata": {},
   "outputs": [],
   "source": [
    "from gitdata.catalog import Catalog\n",
    "\n",
    "c = Catalog(root_dir=here() / \"data\" / \"dummy\")\n",
    "c.datasets()\n",
    "\n",
    "ds = c.get_dataset(\"test_dataset\")\n",
    "ds.checkout()\n",
    "\n",
    "ds.file_dict\n"
   ]
  },
  {
   "cell_type": "code",
   "execution_count": null,
   "metadata": {},
   "outputs": [],
   "source": [
    "ds2 = c.create_dataset(\"another dataset\", description=\"a test dataset\")\n",
    "ds2.commit(commit_message=\"testing another dataset\", add_files=[here() / \"README.md\", here() / \".pre-commit-config.yaml\"])\n",
    "ds2.file_dict"
   ]
  },
  {
   "cell_type": "code",
   "execution_count": null,
   "metadata": {},
   "outputs": [],
   "source": [
    "ds2.current_version_hash()"
   ]
  },
  {
   "cell_type": "code",
   "execution_count": null,
   "metadata": {},
   "outputs": [],
   "source": [
    "oops"
   ]
  },
  {
   "cell_type": "code",
   "execution_count": null,
   "metadata": {},
   "outputs": [],
   "source": []
  }
 ],
 "metadata": {
  "kernelspec": {
   "display_name": "gitdata",
   "language": "python",
   "name": "python3"
  },
  "language_info": {
   "codemirror_mode": {
    "name": "ipython",
    "version": 3
   },
   "file_extension": ".py",
   "mimetype": "text/x-python",
   "name": "python",
   "nbconvert_exporter": "python",
   "pygments_lexer": "ipython3",
   "version": "3.10.14"
  }
 },
 "nbformat": 4,
 "nbformat_minor": 2
}
